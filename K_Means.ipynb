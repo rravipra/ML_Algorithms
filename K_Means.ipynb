{
  "nbformat": 4,
  "nbformat_minor": 0,
  "metadata": {
    "colab": {
      "provenance": []
    },
    "kernelspec": {
      "name": "python3",
      "display_name": "Python 3"
    },
    "language_info": {
      "name": "python"
    }
  },
  "cells": [
    {
      "cell_type": "markdown",
      "source": [
        "#K-Means Algorithm from scratch for data points in 2 and 3 dimensions.\n"
      ],
      "metadata": {
        "id": "bjn2CVoOqk8i"
      }
    },
    {
      "cell_type": "code",
      "source": [
        "import numpy as np\n",
        "\n",
        "# Function to find the centroid of a given set of points.\n",
        "def centeroid(arr):\n",
        "    if arr.shape[1] == 2:\n",
        "        length = arr.shape[0]\n",
        "        sum_x = np.sum(arr[:, 0])\n",
        "        sum_y = np.sum(arr[:, 1])\n",
        "        return (sum_x/length, sum_y/length)\n",
        "    if arr.shape[1] == 3:\n",
        "        length = arr.shape[0]\n",
        "        sum_x = np.sum(arr[:, 0])\n",
        "        sum_y = np.sum(arr[:, 1])\n",
        "        sum_z = np.sum(arr[:, 2])\n",
        "        return (sum_x/length, sum_y/length, sum_z/length)\n",
        "\n",
        "# The k-means function returns an array of labels which respectively corresponds to each point in the given data_points.\n",
        "\n",
        "def k_means_clustering(data_points, k, initial_centroids, iterations):\n",
        "    centroids = []\n",
        "    d_cent = {}\n",
        "    d1_bins = {}\n",
        "    res = []\n",
        "\n",
        "    for j in range(k):\n",
        "        d1_bins[j] = []\n",
        "        d_cent[j] = []\n",
        "    \n",
        "    itr = 0\n",
        "    while itr < iterations:\n",
        "        for point in data_points:\n",
        "            min_val = float(\"inf\")\n",
        "            label = 0\n",
        "            for i in range(len(initial_centroids)):\n",
        "                if np.linalg.norm(np.array(initial_centroids[i]) - np.array(point)) < min_val:\n",
        "                    label = i\n",
        "                    min_val = np.linalg.norm(np.array(initial_centroids[i]) - np.array(point))\n",
        "                po_li = []\n",
        "                for p in point:\n",
        "                    po_li.append(p)\n",
        "            d1_bins[label].append(po_li)\n",
        "            res.append(label)\n",
        "\n",
        "        for k,v in d1_bins.items():\n",
        "            if len(np.array(d1_bins[k])) > 0:\n",
        "                d_cent[k] = centeroid(np.array(d1_bins[k]))\n",
        "            else:\n",
        "                d_cent[k] = initial_centroids[k]\n",
        "\n",
        "        li = list({key: v for key, v in sorted(list(d_cent.items()))}.values())\n",
        "        \n",
        "        if li == initial_centroids:\n",
        "            return res\n",
        "        else:\n",
        "            initial_centroids = li\n",
        "            res = []\n",
        "            itr += 1\n",
        "\n",
        "    return \"The algorithm failed to converge, increase iterations\""
      ],
      "metadata": {
        "id": "60CLI88rqjGk"
      },
      "execution_count": 5,
      "outputs": []
    },
    {
      "cell_type": "code",
      "source": [
        "# Example in 2D\n",
        "pts = [[0, 0], [3, 4], [4, 4], [1, 0], [0, 1], [4, 3]]\n",
        "centers = [[1, 1], [4, 5]]\n",
        "\n",
        "k_means_clustering(pts, len(centers), centers, 30)"
      ],
      "metadata": {
        "colab": {
          "base_uri": "https://localhost:8080/"
        },
        "id": "9A8k9kqqq2H-",
        "outputId": "e156fa00-2f9f-4237-e926-735bbd56f7a6"
      },
      "execution_count": 6,
      "outputs": [
        {
          "output_type": "execute_result",
          "data": {
            "text/plain": [
              "[0, 1, 1, 0, 0, 1]"
            ]
          },
          "metadata": {},
          "execution_count": 6
        }
      ]
    },
    {
      "cell_type": "code",
      "source": [
        "# Example in 3D\n",
        "pts3d = [[0, 0, 0], [10, 10, 10], [1, 1, 1], [1, 0, 1], [0, 1, 2], [6, 6, 6], [7, 6, 6]]\n",
        "centers3d = [[1, 1, 1], [5, 6, 6], [12, 10, 11]]\n",
        "\n",
        "k_means_clustering(pts3d, len(centers3d), centers3d, 15)"
      ],
      "metadata": {
        "colab": {
          "base_uri": "https://localhost:8080/"
        },
        "id": "SyRcpQvvwCef",
        "outputId": "e84cfdc4-5d93-46c3-fd6d-0d508358a0ab"
      },
      "execution_count": 11,
      "outputs": [
        {
          "output_type": "execute_result",
          "data": {
            "text/plain": [
              "[0, 2, 0, 0, 0, 1, 1]"
            ]
          },
          "metadata": {},
          "execution_count": 11
        }
      ]
    }
  ]
}